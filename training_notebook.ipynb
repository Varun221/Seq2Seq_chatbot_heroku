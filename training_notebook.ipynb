{
  "nbformat": 4,
  "nbformat_minor": 0,
  "metadata": {
    "colab": {
      "name": "vishrnn_whole_new_outlook.ipynb",
      "provenance": [],
      "collapsed_sections": []
    },
    "kernelspec": {
      "name": "python3",
      "display_name": "Python 3"
    },
    "accelerator": "GPU"
  },
  "cells": [
    {
      "cell_type": "code",
      "metadata": {
        "id": "PzzM1TqRoZq-",
        "colab_type": "code",
        "colab": {}
      },
      "source": [
        "from pydrive.auth import GoogleAuth\n",
        "from pydrive.drive import GoogleDrive\n",
        "from google.colab import auth\n",
        "from oauth2client.client import GoogleCredentials\n",
        "\n",
        "# 1. Authenticate and create the PyDrive client.\n",
        "auth.authenticate_user()\n",
        "gauth = GoogleAuth()\n",
        "gauth.credentials = GoogleCredentials.get_application_default()\n",
        "drive = GoogleDrive(gauth)"
      ],
      "execution_count": null,
      "outputs": []
    },
    {
      "cell_type": "code",
      "metadata": {
        "id": "yQ9jhJ9Cox9V",
        "colab_type": "code",
        "colab": {}
      },
      "source": [
        "def get_file_from_drive(folder_id, file_name):\n",
        "  file_list = drive.ListFile({'q': \"'\" + folder_id + \"' in parents and trashed=false\"}).GetList()\n",
        "  for file in file_list:\n",
        "    if file['title'] == file_name:\n",
        "      return file['id']\n",
        "\n",
        "\n",
        "drive_folder_id = '1oj3k3kGIpqaYfCZpJ2aqV5f3yWzQFeVC'\n",
        "filename = 'dialog.txt'\n",
        "\n",
        "def upload_data_system():\n",
        "  downloaded = drive.CreateFile({'id': get_file_from_drive(drive_folder_id, filename)})\n",
        "  downloaded.GetContentFile(filename) \n",
        "\n",
        "\n",
        "\n",
        "\n",
        "\n",
        "upload_data_system()"
      ],
      "execution_count": null,
      "outputs": []
    },
    {
      "cell_type": "code",
      "metadata": {
        "id": "Agm06gY5slSQ",
        "colab_type": "code",
        "colab": {}
      },
      "source": [
        "import tensorflow as tf\n",
        "import numpy as np"
      ],
      "execution_count": null,
      "outputs": []
    },
    {
      "cell_type": "code",
      "metadata": {
        "id": "EURosuumpJlo",
        "colab_type": "code",
        "colab": {}
      },
      "source": [
        "\n",
        "data = []\n",
        "with open('dialog.txt', 'rb') as f:\n",
        "    for line in f:\n",
        "        data.append(line.decode(encoding='utf-8', errors='replace')[:-2])\n",
        "\n",
        "\n",
        "\n"
      ],
      "execution_count": null,
      "outputs": []
    },
    {
      "cell_type": "code",
      "metadata": {
        "id": "t7LXhxrmPSBr",
        "colab_type": "code",
        "colab": {}
      },
      "source": [
        "def make_pair_conversation(data):\n",
        "    # return list of pair conversation\n",
        "    pair = []\n",
        "    for i in range(len(data)-1):\n",
        "        input = data[i]\n",
        "        response = data[i+1]\n",
        "        pair.append([input, response])\n",
        "\n",
        "    return pair\n",
        "\n"
      ],
      "execution_count": null,
      "outputs": []
    },
    {
      "cell_type": "code",
      "metadata": {
        "id": "64hbXsniPzw8",
        "colab_type": "code",
        "colab": {}
      },
      "source": [
        "pair_convs = make_pair_conversation(data[:100001])"
      ],
      "execution_count": null,
      "outputs": []
    },
    {
      "cell_type": "code",
      "metadata": {
        "id": "t402CtkCSDeE",
        "colab_type": "code",
        "colab": {}
      },
      "source": [
        "# A single class for managing all the vocabulary stuff.\n",
        "\n",
        "pad_token = 0\n",
        "sos_token = 1\n",
        "eos_token = 2\n",
        "\n",
        "class Voc:\n",
        "    def __init__(self):\n",
        "        self.trimmed = False\n",
        "        self.word2index = {'PAD':pad_token, 'SOS':sos_token, 'EOS':eos_token}\n",
        "        self.word2count = {}\n",
        "        self.index2word = {pad_token:'PAD', sos_token:'SOS',\n",
        "                           eos_token:'EOS'}\n",
        "        self.numword = 3\n",
        "\n",
        "    def add_sentence(self, sentence):\n",
        "        for word in sentence.split(' '):\n",
        "            self.addword(word)\n",
        "\n",
        "    def addword(self, word):\n",
        "        if word not in self.word2index:\n",
        "            self.word2index[word] = self.numword\n",
        "            self.word2count[word] = 1\n",
        "            self.index2word[self.numword] = word\n",
        "            self.numword += 1\n",
        "        else:\n",
        "            self.word2count[word] += 1\n",
        "\n",
        "    def trim(self, min_count):\n",
        "        \"\"\"\n",
        "        based on the wordcount dictionary, keep the words with\n",
        "        frequency greater than min_count\n",
        "        \"\"\"\n",
        "        if self.trimmed:\n",
        "            return\n",
        "        self.trimmed = True\n",
        "        keep_word = []\n",
        "        for word, num_freq in self.word2count.items():\n",
        "            if num_freq >= min_count:\n",
        "                keep_word.append(word)\n",
        "\n",
        "        # reinitialize the dictionaries\n",
        "        self.word2index = {'PAD':pad_token, 'SOS':sos_token, 'EOS':eos_token}\n",
        "        self.word2count = {}\n",
        "        self.index2word = {pad_token:'PAD', sos_token:'SOS',\n",
        "                           eos_token:'EOS'}\n",
        "        self.numword = 3\n",
        "        for word in keep_word:\n",
        "            self.addword(word)"
      ],
      "execution_count": null,
      "outputs": []
    },
    {
      "cell_type": "code",
      "metadata": {
        "id": "sntIsMdVUG34",
        "colab_type": "code",
        "colab": {}
      },
      "source": [
        "# Convert (or remove accents) sentence to non_accents sentence\n",
        "import unicodedata\n",
        "import re\n",
        "def unicodeToAscii(s):\n",
        "    return ''.join(\n",
        "        c for c in unicodedata.normalize('NFD', s)\n",
        "        if unicodedata.category(c) != 'Mn'\n",
        "    )\n",
        "\n",
        "# Lowercase, trim, and remove non-letter characters\n",
        "def normalizeString(s):\n",
        "    s = unicodeToAscii(s.lower().strip())\n",
        "    s = re.sub(r\"([.!?])\", r\" \\1\", s)\n",
        "    s = re.sub(r\"[^a-zA-Z.!?]+\", r\" \", s)\n",
        "    s = re.sub(r\"\\s+\", r\" \", s).strip()\n",
        "    return s"
      ],
      "execution_count": null,
      "outputs": []
    },
    {
      "cell_type": "code",
      "metadata": {
        "id": "PTb9JlCUUYEh",
        "colab_type": "code",
        "colab": {}
      },
      "source": [
        "def normalize_and_voc(pair_convs):\n",
        "    pairs = [[normalizeString(s) for s in one_pair] for one_pair in pair_convs]\n",
        "    voc = Voc()\n",
        "    return voc, pairs\n",
        "\n",
        "# we ensure sentences must have length smaller than max length\n",
        "#max_length value is based on our choice, the greater value, \n",
        "# the more data training we have and also the more parameter \n",
        "# the model have to train on\n",
        "\n",
        "def filterpair(pairs, max_length):\n",
        "    \"\"\"\n",
        "    Input: pair with format: [input, response],\n",
        "    we check the length of both input, reponse to identify\n",
        "    whether or not they are smaller than max length\n",
        "    return pair with length < max_length\n",
        "    \"\"\"\n",
        "    valid_pair = []\n",
        "    for pair in pairs:\n",
        "        input_words, reponse_words = pair[0].split(' '), pair[1].split(' ')\n",
        "        if len(input_words) < max_length and len(reponse_words) < max_length:\n",
        "            valid_pair.append(pair)\n",
        "    return valid_pair\n",
        "\n",
        "\n",
        "def loadPrepareData(pair_convs, max_length):\n",
        "    voc, pairs = normalize_and_voc(pair_convs)\n",
        "    valid_pair = filterpair(pairs, max_length)\n",
        "    print(f\"load total {len(pairs)} pairs\")\n",
        "    print(f\"load total {len(valid_pair)} pairs with length <= {max_length}\")\n",
        "    for pair in valid_pair:\n",
        "        voc.add_sentence(pair[0])\n",
        "        voc.add_sentence(pair[1])\n",
        "    print(f\"Total number of words in vocab is : {voc.numword}\")\n",
        "    return voc, valid_pair\n",
        "\n",
        "\n"
      ],
      "execution_count": null,
      "outputs": []
    },
    {
      "cell_type": "code",
      "metadata": {
        "id": "OWJs2Kv5UYUr",
        "colab_type": "code",
        "colab": {
          "base_uri": "https://localhost:8080/",
          "height": 68
        },
        "outputId": "ff0c5ea9-e368-42ea-df78-ce7b821ffef2"
      },
      "source": [
        "voc, valid_pair = loadPrepareData(pair_convs, 25)"
      ],
      "execution_count": null,
      "outputs": [
        {
          "output_type": "stream",
          "text": [
            "load total 100000 pairs\n",
            "load total 76172 pairs with length <= 25\n",
            "Total number of words in vocab is : 21366\n"
          ],
          "name": "stdout"
        }
      ]
    },
    {
      "cell_type": "code",
      "metadata": {
        "id": "okKhPX8QUYnG",
        "colab_type": "code",
        "colab": {
          "base_uri": "https://localhost:8080/",
          "height": 88
        },
        "outputId": "91de08e5-6804-4b3d-9af4-dcbd6fac85ab"
      },
      "source": [
        "for pair in valid_pair[:3]:\n",
        "    print(pair)"
      ],
      "execution_count": null,
      "outputs": [
        {
          "output_type": "stream",
          "text": [
            "['well i thought we d start with pronunciation if that s okay with you .', 'not the hacking and gagging and spitting part . please .']\n",
            "['not the hacking and gagging and spitting part . please .', 'okay . . . then how bout we try out some french cuisine . saturday ? night ?']\n",
            "['okay . . . then how bout we try out some french cuisine . saturday ? night ?', 'you re asking me out . that s so cute . what s your name again ?']\n"
          ],
          "name": "stdout"
        }
      ]
    },
    {
      "cell_type": "code",
      "metadata": {
        "id": "w6_FDJZMUYeq",
        "colab_type": "code",
        "colab": {}
      },
      "source": [
        "def trim_rareword(voc, pairs, min_count):\n",
        "    voc.trim(min_count)\n",
        "    # trim the voc class with min_count so that every word in \n",
        "    # word2index will satisfy min_count freq req\n",
        "    trimmed_pair = []\n",
        "    for pair in pairs:\n",
        "        inp_sent = pair[0]\n",
        "        resp_sent = pair[1]\n",
        "        keep_inp = True\n",
        "        keep_resp = True\n",
        "        # loop over every word in both inp and resp sentence\n",
        "        for word in inp_sent.split(' '):\n",
        "            if word not in voc.word2index: #condition\n",
        "                keep_inp = False\n",
        "                break\n",
        "\n",
        "        for word in resp_sent.split(' '):\n",
        "            if word not in voc.word2index: #condition\n",
        "                keep_resp = False\n",
        "                break\n",
        "\n",
        "        if keep_inp and keep_resp:\n",
        "            trimmed_pair.append(pair)\n",
        "\n",
        "    print(f\"The trimming process make the total {len(pairs)} ==> {len(trimmed_pair)} trimmed pair\")\n",
        "    return voc, trimmed_pair"
      ],
      "execution_count": null,
      "outputs": []
    },
    {
      "cell_type": "code",
      "metadata": {
        "id": "e2Hb8BJ8UYMQ",
        "colab_type": "code",
        "colab": {
          "base_uri": "https://localhost:8080/",
          "height": 34
        },
        "outputId": "65a7fe0e-2dc7-47a8-ab28-7c936540af55"
      },
      "source": [
        "voc, trimmed_pair = trim_rareword(voc, valid_pair, min_count = 3)"
      ],
      "execution_count": null,
      "outputs": [
        {
          "output_type": "stream",
          "text": [
            "The trimming process make the total 76172 ==> 63291 trimmed pair\n"
          ],
          "name": "stdout"
        }
      ]
    },
    {
      "cell_type": "code",
      "metadata": {
        "id": "RHvRz0eycF95",
        "colab_type": "code",
        "colab": {}
      },
      "source": [
        "def index_from_sentence(voc, sentence):\n",
        "    \"\"\"\n",
        "    Input: a single sentence\n",
        "    output: return index resp matching with words in sentence\n",
        "    based on voc.word2index\n",
        "    \"\"\"\n",
        "    return [voc.word2index[word] for word in sentence.split(' ')] + [eos_token]\n",
        "    # eos token to indicate sentence ends here"
      ],
      "execution_count": null,
      "outputs": []
    },
    {
      "cell_type": "code",
      "metadata": {
        "id": "_aSeVIUbcGXs",
        "colab_type": "code",
        "colab": {
          "base_uri": "https://localhost:8080/",
          "height": 34
        },
        "outputId": "90a8a948-7fff-462b-c5ef-19b9b3e709ef"
      },
      "source": [
        "# test\n",
        "index_from_sentence(voc, trimmed_pair[5][0])"
      ],
      "execution_count": null,
      "outputs": [
        {
          "output_type": "execute_result",
          "data": {
            "text/plain": [
              "[64, 10, 65, 6, 57, 66, 67, 50, 68, 15, 15, 15, 2]"
            ]
          },
          "metadata": {
            "tags": []
          },
          "execution_count": 16
        }
      ]
    },
    {
      "cell_type": "code",
      "metadata": {
        "id": "gITL_ylqcGtU",
        "colab_type": "code",
        "colab": {}
      },
      "source": [
        "from tensorflow.keras.preprocessing.sequence import pad_sequences\n",
        "# pads a list of sentences ,l\n",
        "def zeroPadding(l, fillvalue=pad_token):\n",
        "    return pad_sequences(l, value=fillvalue, padding='post')\n",
        "\n",
        "# a binary mask for where there is padding and where there is not\n",
        "# l is a list of sentences\n",
        "def binaryMatrix(l, value=pad_token):\n",
        "    m = []\n",
        "    for i, seq in enumerate(l):\n",
        "        m.append([])\n",
        "        for token in seq:\n",
        "            if token == pad_token:\n",
        "                m[i].append(0)\n",
        "            else:\n",
        "                m[i].append(1)\n",
        "    return m\n"
      ],
      "execution_count": null,
      "outputs": []
    },
    {
      "cell_type": "code",
      "metadata": {
        "id": "wcc3LmUOcGhh",
        "colab_type": "code",
        "colab": {}
      },
      "source": [
        "def prepared_input(l, voc):\n",
        "    \"\"\"\n",
        "    Purpos: convert to  (returns padded input sequence and lengths)\n",
        "    \"\"\"\n",
        "    indexes_batch = [index_from_sentence(voc, sentence) for sentence in l]\n",
        "    padded_list_index = zeroPadding(indexes_batch)\n",
        "    lengths = [len(indexes) for indexes in indexes_batch]\n",
        "    return padded_list_index, lengths\n",
        "\n",
        "def prepared_output(l, voc):\n",
        "    indexes_batch = [index_from_sentence(voc, sent) for sent in l]\n",
        "    padded_list_index = zeroPadding(indexes_batch)\n",
        "    max_output_length = max([len(indexes) for indexes in indexes_batch])\n",
        "    mask = binaryMatrix(padded_list_index)\n",
        "\n",
        "    return padded_list_index, mask, max_output_length\n"
      ],
      "execution_count": null,
      "outputs": []
    },
    {
      "cell_type": "code",
      "metadata": {
        "id": "vIypjQnVcGOU",
        "colab_type": "code",
        "colab": {}
      },
      "source": [
        "# combine all and return all items needed given a batch of pairs\n",
        "def get_batch_pair(voc, batch_pair):\n",
        "    \"\"\"\n",
        "    sort the len of input sents in desc\n",
        "    return all input and output items\n",
        "    \"\"\"\n",
        "    # sort len(input sents) in batch_pair with decreasing order\n",
        "    batch_pair.sort(key = lambda x: len(x[0].split(\" \")), reverse = True)\n",
        "\n",
        "    # divide the batch pair to batch input and batch response\n",
        "    input_batch, resp_batch = [], []\n",
        "    for pair in batch_pair:\n",
        "        input_batch.append(pair[0])\n",
        "        resp_batch.append(pair[1])\n",
        "\n",
        "    inp_seq, len_input = prepared_input(input_batch, voc)\n",
        "    op_seq, mask, max_len = prepared_output(resp_batch, voc)\n",
        "\n",
        "    return inp_seq, len_input, op_seq, mask, max_len\n",
        "\n"
      ],
      "execution_count": null,
      "outputs": []
    },
    {
      "cell_type": "code",
      "metadata": {
        "id": "D7Bth9mSuqQP",
        "colab_type": "code",
        "colab": {}
      },
      "source": [
        "inp_seq, len_inp, op_seq, mask, max_len = get_batch_pair(voc, trimmed_pair)"
      ],
      "execution_count": null,
      "outputs": []
    },
    {
      "cell_type": "code",
      "metadata": {
        "id": "l8HYIx711xfO",
        "colab_type": "code",
        "colab": {}
      },
      "source": [
        "vocab = voc.word2index"
      ],
      "execution_count": null,
      "outputs": []
    },
    {
      "cell_type": "code",
      "metadata": {
        "id": "F10UF5SR9_7L",
        "colab_type": "code",
        "colab": {
          "base_uri": "https://localhost:8080/",
          "height": 34
        },
        "outputId": "d0ecada5-20f9-42c3-a1b9-9d9d5f430212"
      },
      "source": [
        "len(vocab)"
      ],
      "execution_count": null,
      "outputs": [
        {
          "output_type": "execute_result",
          "data": {
            "text/plain": [
              "12053"
            ]
          },
          "metadata": {
            "tags": []
          },
          "execution_count": 22
        }
      ]
    },
    {
      "cell_type": "code",
      "metadata": {
        "id": "mGRgAEY-yexs",
        "colab_type": "code",
        "colab": {}
      },
      "source": [
        "# creating tf.data.Dataset and tuning\n",
        "BUFFER_SIZE = len(inp_seq)\n",
        "BATCH_SIZE = 128\n",
        "steps_per_epoch = len(inp_seq)//BATCH_SIZE\n",
        "units = 500\n",
        "maxl = max_len\n",
        "dataset = tf.data.Dataset.from_tensor_slices((inp_seq, op_seq)).shuffle(BUFFER_SIZE)\n",
        "dataset = dataset.cache()\n",
        "dataset = dataset.batch(BATCH_SIZE, drop_remainder=True)\n",
        "# tuning region\n",
        "clip = 50.0\n",
        "teach_force = 1.0\n",
        "learning_rate = 3e-4\n",
        "decoder_learning_rate = 5.0\n",
        "epochs = 300\n",
        "enc_layers = 3\n",
        "dec_layers = 3\n",
        "drop_prob = 0.1\n",
        "print_every = steps_per_epoch//7"
      ],
      "execution_count": null,
      "outputs": []
    },
    {
      "cell_type": "code",
      "metadata": {
        "id": "ifU-1pU3zoav",
        "colab_type": "code",
        "colab": {
          "base_uri": "https://localhost:8080/",
          "height": 34
        },
        "outputId": "1fa9b23d-d135-4e56-d530-d3577f3764ec"
      },
      "source": [
        "ex_input_bt, ex_reply_bt = next(iter(dataset))\n",
        "ex_input_bt.shape, ex_reply_bt.shape"
      ],
      "execution_count": null,
      "outputs": [
        {
          "output_type": "execute_result",
          "data": {
            "text/plain": [
              "(TensorShape([128, 25]), TensorShape([128, 25]))"
            ]
          },
          "metadata": {
            "tags": []
          },
          "execution_count": 40
        }
      ]
    },
    {
      "cell_type": "code",
      "metadata": {
        "id": "iymEzEUJpxaA",
        "colab_type": "code",
        "colab": {
          "base_uri": "https://localhost:8080/",
          "height": 204
        },
        "outputId": "c5468532-1868-4263-8144-a24e1e8f682f"
      },
      "source": [
        "import numpy as np\n",
        "import pandas as pd\n",
        "!wget --no-check-certificate \\\n",
        "    https://storage.googleapis.com/laurencemoroney-blog.appspot.com/glove.6B.100d.txt \\\n",
        "    -O /tmp/glove.6B.100d.txt\n",
        "embeddings_index = {}\n",
        "with open('/tmp/glove.6B.100d.txt') as f:\n",
        "    for line in f:\n",
        "        values = line.split()\n",
        "        word = values[0];\n",
        "        coefs = np.asarray(values[1:], dtype='float32')\n",
        "        embeddings_index[word] = coefs"
      ],
      "execution_count": null,
      "outputs": [
        {
          "output_type": "stream",
          "text": [
            "--2020-08-04 17:19:56--  https://storage.googleapis.com/laurencemoroney-blog.appspot.com/glove.6B.100d.txt\n",
            "Resolving storage.googleapis.com (storage.googleapis.com)... 108.177.119.128, 108.177.126.128, 2a00:1450:4013:c04::80, ...\n",
            "Connecting to storage.googleapis.com (storage.googleapis.com)|108.177.119.128|:443... connected.\n",
            "HTTP request sent, awaiting response... 200 OK\n",
            "Length: 347116733 (331M) [text/plain]\n",
            "Saving to: ‘/tmp/glove.6B.100d.txt’\n",
            "\n",
            "/tmp/glove.6B.100d. 100%[===================>] 331.04M  61.9MB/s    in 5.3s    \n",
            "\n",
            "2020-08-04 17:20:01 (61.9 MB/s) - ‘/tmp/glove.6B.100d.txt’ saved [347116733/347116733]\n",
            "\n"
          ],
          "name": "stdout"
        }
      ]
    },
    {
      "cell_type": "code",
      "metadata": {
        "id": "FDbGlgJIJKH1",
        "colab_type": "code",
        "colab": {
          "base_uri": "https://localhost:8080/",
          "height": 34
        },
        "outputId": "a4d0ee5e-372c-459a-f8ba-85fdbf06380a"
      },
      "source": [
        "len(list(embeddings_index.values())[0])"
      ],
      "execution_count": null,
      "outputs": [
        {
          "output_type": "execute_result",
          "data": {
            "text/plain": [
              "100"
            ]
          },
          "metadata": {
            "tags": []
          },
          "execution_count": 41
        }
      ]
    },
    {
      "cell_type": "code",
      "metadata": {
        "id": "P7GtCswNqJjP",
        "colab_type": "code",
        "colab": {
          "base_uri": "https://localhost:8080/",
          "height": 34
        },
        "outputId": "4eeb73de-3af2-433c-eb49-d021216add5a"
      },
      "source": [
        "embedding_dim = 100\n",
        "embeddings_matrix = np.zeros((len(vocab), embedding_dim));\n",
        "for word, i in vocab.items():\n",
        "    embedding_vector = embeddings_index.get(word)\n",
        "    if embedding_vector is not None:\n",
        "        embeddings_matrix[i] = embedding_vector\n",
        "print(f\"Made embedding matrix with shape {embeddings_matrix.shape} while finding {int(np.count_nonzero(embeddings_matrix)/100)} out of {len(vocab)-3} words\")\n"
      ],
      "execution_count": null,
      "outputs": [
        {
          "output_type": "stream",
          "text": [
            "Made embedding matrix with shape (12053, 100) while finding 11555 out of 12050 words\n"
          ],
          "name": "stdout"
        }
      ]
    },
    {
      "cell_type": "code",
      "metadata": {
        "id": "tJ__278c0VSm",
        "colab_type": "code",
        "colab": {
          "base_uri": "https://localhost:8080/",
          "height": 34
        },
        "outputId": "492756d1-68ab-43db-ff8f-095ea38d8c87"
      },
      "source": [
        "embeddings_matrix.shape"
      ],
      "execution_count": null,
      "outputs": [
        {
          "output_type": "execute_result",
          "data": {
            "text/plain": [
              "(12053, 100)"
            ]
          },
          "metadata": {
            "tags": []
          },
          "execution_count": 43
        }
      ]
    },
    {
      "cell_type": "code",
      "metadata": {
        "id": "AaZyk84UqRn7",
        "colab_type": "code",
        "colab": {}
      },
      "source": [
        "import tensorflow as tf\n",
        "from tensorflow.keras.models import Model\n",
        "from tensorflow.keras.layers import Dense, Embedding, LSTM, Input, Bidirectional, Concatenate, Dropout, GRU\n",
        "from tensorflow.keras.initializers import Constant"
      ],
      "execution_count": null,
      "outputs": []
    },
    {
      "cell_type": "code",
      "metadata": {
        "id": "jx_lhLjk6wAQ",
        "colab_type": "code",
        "colab": {}
      },
      "source": [
        "# Encoder class for the model\n",
        "# output: (seq_len, batch, num_dir*hiddensize)\n",
        "# num_dir = 1 when unidirectional and 2 when bidirectional\n",
        "class Encoder(Model):\n",
        "    \n",
        "    def __init__(self, vocab_size, embedding_dim, enc_units, batch_sz, emb_matrix, num_layers=1, drop_prob = 0):\n",
        "        super(Encoder, self).__init__()\n",
        "        self.batch_sz = batch_sz\n",
        "        self.enc_units = enc_units\n",
        "        self.num_layers = num_layers\n",
        "        self.drop_prob = drop_prob\n",
        "        self.embedding = Embedding(vocab_size, embedding_dim, embeddings_initializer=Constant(emb_matrix))\n",
        "        # multiple number of layers\n",
        "        self.gru_layers = []\n",
        "        for i in range(self.num_layers):\n",
        "            self.gru_layers.append(GRU(self.enc_units, return_state = True, return_sequences=True,\n",
        "                                    recurrent_initializer='glorot_uniform',\n",
        "                                    dropout = self.drop_prob))\n",
        "\n",
        "    def call(self, x, hidden):\n",
        "        x = self.embedding(x)\n",
        "        output, state = self.gru_layers[0](x, initial_state = hidden)\n",
        "        for i in range(1, self.num_layers-1):\n",
        "            output, state = self.gru_layers[i](output)\n",
        "        return output, state \n",
        "\n",
        "    def initialize_hidden_state(self):\n",
        "        return tf.zeros((self.batch_sz, self.enc_units))             \n"
      ],
      "execution_count": null,
      "outputs": []
    },
    {
      "cell_type": "code",
      "metadata": {
        "id": "4-dO6RiThLfC",
        "colab_type": "code",
        "colab": {
          "base_uri": "https://localhost:8080/",
          "height": 34
        },
        "outputId": "60ac21cb-f488-424f-bd6c-fe537e9e559e"
      },
      "source": [
        "# checking encoder\n",
        "encoder = Encoder(len(vocab), embedding_dim, units, BATCH_SIZE, embeddings_matrix, num_layers=enc_layers, drop_prob = drop_prob)\n",
        "sample_hidden = encoder.initialize_hidden_state()\n",
        "sample_output, sample_hidden = encoder(ex_input_bt, sample_hidden)\n",
        "print(sample_output.shape, sample_hidden.shape)\n",
        "# output = (batchsize, maxl, units)  (batchsize, units)"
      ],
      "execution_count": null,
      "outputs": [
        {
          "output_type": "stream",
          "text": [
            "(128, 25, 500) (128, 500)\n"
          ],
          "name": "stdout"
        }
      ]
    },
    {
      "cell_type": "code",
      "metadata": {
        "id": "4-vaJRHc_yPd",
        "colab_type": "code",
        "colab": {}
      },
      "source": [
        "# creating Attention model\n",
        "class BahdanauAttention(tf.keras.layers.Layer):\n",
        "\n",
        "    def __init__(self, units):\n",
        "        super(BahdanauAttention, self).__init__()\n",
        "        self.W1 = Dense(units)\n",
        "        self.W2 = Dense(units)\n",
        "        self.V = Dense(1)\n",
        "\n",
        "    def call(self, query, values):\n",
        "        # query is the hidden state to be passes to the decoder shape = (batchsize, hidden_size)\n",
        "        # values is the output from the gru , shape = (batchsize, max_len, hidden_size)\n",
        "        # query with time axis is done to broadcast along time axis to calculate the score\n",
        "        query_with_time_axis = tf.expand_dims(query, 1)\n",
        "\n",
        "        # score shape = (batchsize, maxlen, 1)\n",
        "        score = self.V( tf.nn.tanh(self.W1(query_with_time_axis) + self.W2(values)))\n",
        "        # self.V converts the shape of scores from (batchsize, maxlen, units) to whatever we have\n",
        "\n",
        "        # attention weights shape = (batchsize, maxlen, 1)\n",
        "        attention_weights = tf.nn.softmax(score, axis=1)\n",
        "\n",
        "        # context vector shape after sum == (batchsize, hiddensize)\n",
        "        context_vector = attention_weights * values\n",
        "        context_vector = tf.reduce_sum(context_vector, axis=1)\n",
        "\n",
        "        return context_vector, attention_weights"
      ],
      "execution_count": null,
      "outputs": []
    },
    {
      "cell_type": "code",
      "metadata": {
        "id": "SxqDHfZiQN1I",
        "colab_type": "code",
        "colab": {
          "base_uri": "https://localhost:8080/",
          "height": 34
        },
        "outputId": "ffe5cfea-2ac8-46e4-ca8f-40861d1a068e"
      },
      "source": [
        "attention_layer = BahdanauAttention(24)\n",
        "attention_result, attention_weights = attention_layer(sample_hidden, sample_output)\n",
        "print(attention_result.shape, attention_weights.shape)\n",
        "# output = (batchsize, units) (batchsize, maxl, 1)"
      ],
      "execution_count": null,
      "outputs": [
        {
          "output_type": "stream",
          "text": [
            "(128, 500) (128, 25, 1)\n"
          ],
          "name": "stdout"
        }
      ]
    },
    {
      "cell_type": "code",
      "metadata": {
        "id": "1DI5nhJBQNyx",
        "colab_type": "code",
        "colab": {}
      },
      "source": [
        "# creating decoder class\n",
        "class Decoder(tf.keras.Model):\n",
        "\n",
        "    def __init__(self, vocab_size, embedding_dim, dec_units, batch_sz, emb_matrix, num_layers=1, drop_prob=0.1):\n",
        "        super(Decoder,self).__init__()\n",
        "        self.batch_sz = batch_sz\n",
        "        self.dec_units = dec_units\n",
        "        self.num_layers = num_layers\n",
        "        self.drop_prob = drop_prob\n",
        "        self.embedding = Embedding(vocab_size, embedding_dim, embeddings_initializer=Constant(emb_matrix))\n",
        "        # multiple number of layers\n",
        "        self.gru_layers = []\n",
        "        for i in range(self.num_layers):\n",
        "            self.gru_layers.append(GRU(self.dec_units, return_state = True, return_sequences=True,\n",
        "                                    recurrent_initializer='glorot_uniform',\n",
        "                                    dropout = (0 if self.num_layers==1 else self.drop_prob)))\n",
        "        self.fc = Dense(vocab_size)\n",
        "\n",
        "        # attention\n",
        "        self.attention = BahdanauAttention(self.dec_units)\n",
        "\n",
        "    def call(self, x, hidden, enc_output):\n",
        "\n",
        "        # enc output shape = (batch_sz, maxlen, hiddensize)\n",
        "        context_vector, attention_weights = self.attention(hidden, enc_output)\n",
        "\n",
        "        # x shape after embedding ( batchsize, 1, embedding_dim)\n",
        "        x = self.embedding(x)\n",
        "        # x shape after concatenation = (batchsize, 1, embedding_dim + hiddensize)\n",
        "        x = tf.concat([tf.expand_dims(context_vector, 1), x], axis=-1)\n",
        "        # passing the concatenated vector to gru\n",
        "        output, state = self.gru_layers[0](x, initial_state = hidden)\n",
        "        for i in range(1, self.num_layers-1):\n",
        "            output, state = self.gru_layers[i](output)\n",
        "        # output shape = (batchsize*1, hiddensize)\n",
        "        output = tf.reshape(output, (-1, output.shape[2]))\n",
        "        # output shape = (batchsize, vocab)\n",
        "        x = self.fc(output)\n",
        "\n",
        "        return x, state, attention_weights\n"
      ],
      "execution_count": null,
      "outputs": []
    },
    {
      "cell_type": "code",
      "metadata": {
        "id": "HVyNx0iRQNwU",
        "colab_type": "code",
        "colab": {
          "base_uri": "https://localhost:8080/",
          "height": 34
        },
        "outputId": "bd301f21-f6c3-40ea-be8d-ce994d07130f"
      },
      "source": [
        "decoder = Decoder(len(vocab), embedding_dim, units, BATCH_SIZE, embeddings_matrix, num_layers = dec_layers, drop_prob = drop_prob)\n",
        "sample_decoder_output, _, _ = decoder(tf.random.uniform((BATCH_SIZE, 1)),\n",
        "                                      sample_hidden, sample_output)\n",
        "print(sample_decoder_output.shape)\n",
        "# output = (batchsize, vocabsize)"
      ],
      "execution_count": null,
      "outputs": [
        {
          "output_type": "stream",
          "text": [
            "(128, 12053)\n"
          ],
          "name": "stdout"
        }
      ]
    },
    {
      "cell_type": "code",
      "metadata": {
        "id": "i_KJiQDVQNs3",
        "colab_type": "code",
        "colab": {}
      },
      "source": [
        "# optimizer and loss function\n",
        "enc_optimizer = tf.keras.optimizers.Adam(lr=learning_rate, \n",
        "                                         clipnorm = clip)\n",
        "dec_optimizer = tf.keras.optimizers.Adam(lr=learning_rate*decoder_learning_rate,\n",
        "                                         clipnorm = clip)\n",
        "\n",
        "loss_object = tf.keras.losses.SparseCategoricalCrossentropy(\n",
        "    from_logits = True\n",
        ")\n",
        "\n",
        "def loss_fn(real, pred):\n",
        "    mask = tf.math.logical_not(tf.math.equal(real,0))\n",
        "    loss_ = loss_object(real, pred)\n",
        "\n",
        "    mask = tf.cast(mask, dtype=loss_.dtype)\n",
        "    loss_ *= mask\n",
        "\n",
        "    return tf.reduce_mean(loss_)\n"
      ],
      "execution_count": null,
      "outputs": []
    },
    {
      "cell_type": "code",
      "metadata": {
        "id": "Y3Eliy88EwsM",
        "colab_type": "code",
        "colab": {
          "base_uri": "https://localhost:8080/",
          "height": 154
        },
        "outputId": "b9591bed-5a06-4d1a-ee8b-885ac002e646"
      },
      "source": [
        "\n",
        "\"\"\"# VALIDATION FUNCTIONS\n",
        "\n",
        "# this function returns the loss for batch size\n",
        "@tf.function\n",
        "def validate(inp, rep, enc_hidden):\n",
        "    \n",
        "    loss = 0\n",
        "    enc_output, enc_hidden = encoder(inp, enc_hidden)\n",
        "    dec_hidden = enc_hidden\n",
        "\n",
        "    dec_input = tf.expand_dims([vocab['SOS']]*BATCH_SIZE, 1)\n",
        "\n",
        "    for t in range(1, rep.shape[1]):\n",
        "        # passing enc output to decoder\n",
        "        preds, dec_hidden, _ = decoder(dec_input, dec_hidden, enc_output)\n",
        "        loss += loss_fn(rep[:,t], preds)\n",
        "\n",
        "        # checking without teacher forcing\n",
        "        dec_input = tf.expand_dims(tf.math.argmax(preds, axis=1), 1)\n",
        "\n",
        "\n",
        "    net_loss = (loss/ int(rep.shape[1]))\n",
        "\n",
        "    return net_loss\n",
        "    \n",
        "\n",
        "# this function takes in the validation splits and runs validate function by giving batch size examples at a time\n",
        "def validate_over(inp, rep, enc_hidden, batchsize):\n",
        "\n",
        "    num_batches = inp.shape[0] // BATCH_SIZE\n",
        "    loss = 0\n",
        "    for i in range(num_batches):\n",
        "        inp_tosend = tf.convert_to_tensor(inp[i*BATCH_SIZE : (i+1)*BATCH_SIZE, :])\n",
        "        rep_tosend = tf.convert_to_tensor(rep[i*BATCH_SIZE : (i+1)*BATCH_SIZE, :])\n",
        "\n",
        "        loss += validate(inp_tosend, rep_tosend, enc_hidden)\n",
        "\n",
        "    val_loss = loss / num_batches\n",
        "    \n",
        "    return val_loss\n",
        "\"\"\"\n",
        "    "
      ],
      "execution_count": null,
      "outputs": [
        {
          "output_type": "execute_result",
          "data": {
            "application/vnd.google.colaboratory.intrinsic+json": {
              "type": "string"
            },
            "text/plain": [
              "\"# VALIDATION FUNCTIONS\\n\\n# this function returns the loss for batch size\\n@tf.function\\ndef validate(inp, rep, enc_hidden):\\n    \\n    loss = 0\\n    enc_output, enc_hidden = encoder(inp, enc_hidden)\\n    dec_hidden = enc_hidden\\n\\n    dec_input = tf.expand_dims([vocab['SOS']]*BATCH_SIZE, 1)\\n\\n    for t in range(1, rep.shape[1]):\\n        # passing enc output to decoder\\n        preds, dec_hidden, _ = decoder(dec_input, dec_hidden, enc_output)\\n        loss += loss_fn(rep[:,t], preds)\\n\\n        # checking without teacher forcing\\n        dec_input = tf.expand_dims(tf.math.argmax(preds, axis=1), 1)\\n\\n\\n    net_loss = (loss/ int(rep.shape[1]))\\n\\n    return net_loss\\n    \\n\\n# this function takes in the validation splits and runs validate function by giving batch size examples at a time\\ndef validate_over(inp, rep, enc_hidden, batchsize):\\n\\n    num_batches = inp.shape[0] // BATCH_SIZE\\n    loss = 0\\n    for i in range(num_batches):\\n        inp_tosend = tf.convert_to_tensor(inp[i*BATCH_SIZE : (i+1)*BATCH_SIZE, :])\\n        rep_tosend = tf.convert_to_tensor(rep[i*BATCH_SIZE : (i+1)*BATCH_SIZE, :])\\n\\n        loss += validate(inp_tosend, rep_tosend, enc_hidden)\\n\\n    val_loss = loss / num_batches\\n    \\n    return val_loss\\n\""
            ]
          },
          "metadata": {
            "tags": []
          },
          "execution_count": 52
        }
      ]
    },
    {
      "cell_type": "code",
      "metadata": {
        "id": "8fFGhSSOYbtx",
        "colab_type": "code",
        "colab": {}
      },
      "source": [
        "import random\n",
        "# one step of train function\n",
        "teacher_forcing_ratio = teach_force\n",
        "@tf.function\n",
        "def train_step(inp, rep, enc_hidden):\n",
        "    loss = 0\n",
        "\n",
        "    with tf.GradientTape() as enc_tape, tf.GradientTape() as dec_tape:\n",
        "        enc_output, enc_hidden = encoder(inp, enc_hidden)\n",
        "        dec_hidden = enc_hidden\n",
        "\n",
        "        dec_input = tf.expand_dims([vocab['SOS']]*BATCH_SIZE, 1)\n",
        "        \n",
        "        \n",
        "        # using teacher_forcing_ratio as a parameter \n",
        "        use_teacher_forcing = True if random.random() < teacher_forcing_ratio else False\n",
        "\n",
        "        if use_teacher_forcing:\n",
        "            # teacher forcing - feeding the reply as the next input\n",
        "            for t in range(1, rep.shape[1]):\n",
        "                preds, dec_hidden, _ = decoder(dec_input, dec_hidden, enc_output)\n",
        "                loss += loss_fn(rep[:,t], preds)\n",
        "                # teacher forcing\n",
        "                dec_input = tf.expand_dims(rep[:, t], 1)\n",
        "                \n",
        "\n",
        "        else:\n",
        "            # without teacher forcing using the decoder output as next input\n",
        "            for t in range(1, rep.shape[1]):\n",
        "                preds, dec_hidden, _ = decoder(dec_input, dec_hidden, enc_output)\n",
        "                loss += loss_fn(rep[:, t], preds)\n",
        "\n",
        "                # passing the output\n",
        "                dec_input = tf.expand_dims(tf.math.argmax(preds, axis=1), 1)\n",
        "                \n",
        "\n",
        "                \n",
        "\n",
        "    batch_loss = (loss/ int(rep.shape[1]))\n",
        "    \n",
        "    enc_variables = encoder.trainable_variables\n",
        "    dec_variables = decoder.trainable_variables\n",
        "\n",
        "    enc_grads = enc_tape.gradient(loss, enc_variables)\n",
        "    dec_grads = dec_tape.gradient(loss, dec_variables)\n",
        "\n",
        "    enc_optimizer.apply_gradients(zip(enc_grads, enc_variables))\n",
        "    dec_optimizer.apply_gradients(zip(dec_grads, dec_variables))\n",
        "\n",
        "\n",
        "    return batch_loss\n"
      ],
      "execution_count": null,
      "outputs": []
    },
    {
      "cell_type": "code",
      "metadata": {
        "id": "hW_46rrTYbq0",
        "colab_type": "code",
        "colab": {
          "base_uri": "https://localhost:8080/",
          "height": 1000
        },
        "outputId": "14c5b01c-1981-43bb-a38e-360478473b75"
      },
      "source": [
        "import time\n",
        "ep = epochs\n",
        "losses = []\n",
        "val_losses = []\n",
        "num_batches = inp_seq.shape[0] // BATCH_SIZE\n",
        "for epoch in range(ep):\n",
        "    print(f\"\\nSTARTING EPOCH: {epoch+1}\")\n",
        "    start = time.time()\n",
        "    enc_hidden = encoder.initialize_hidden_state()\n",
        "    total_loss = 0\n",
        "    val_loss_batch = []\n",
        "\n",
        "    for (batch,(inp, rep)) in enumerate(dataset.take(steps_per_epoch)):\n",
        "        batch_loss = train_step(inp, rep, enc_hidden)\n",
        "        total_loss += batch_loss\n",
        "        losses.append(batch_loss)\n",
        "\n",
        "        if (batch+1)%print_every == 0:\n",
        "            print(\"\\t Batch {}/{} ===> Train Loss {:.4f}\".format(batch+1,num_batches,batch_loss.numpy()))\n",
        "    \n",
        "    dataset = dataset.shuffle(BUFFER_SIZE)\n",
        "    print(\"Epoch {} completed with Training Loss {:.4f} in {:.4f} sec\".format(epoch+1, \n",
        "                                                                     total_loss/steps_per_epoch, \n",
        "                                                                     time.time() - start)) \n",
        "                                                                     \n",
        "                                                                     \n",
        "                                                                     \n",
        "                                                                     \n",
        "    "
      ],
      "execution_count": null,
      "outputs": [
        {
          "output_type": "stream",
          "text": [
            "\n",
            "STARTING EPOCH: 1\n",
            "\t Batch 98/494 ===> Train Loss 1.2378\n",
            "\t Batch 196/494 ===> Train Loss 1.1384\n",
            "\t Batch 294/494 ===> Train Loss 1.1349\n",
            "\t Batch 392/494 ===> Train Loss 1.1622\n",
            "\t Batch 490/494 ===> Train Loss 1.0799\n",
            "Epoch 1 completed with Training Loss 1.2599 in 195.4475 sec\n",
            "\n",
            "STARTING EPOCH: 2\n",
            "\t Batch 98/494 ===> Train Loss 1.1091\n",
            "\t Batch 196/494 ===> Train Loss 1.1386\n",
            "\t Batch 294/494 ===> Train Loss 1.0320\n",
            "\t Batch 392/494 ===> Train Loss 1.0595\n",
            "\t Batch 490/494 ===> Train Loss 0.9728\n",
            "Epoch 2 completed with Training Loss 1.0585 in 113.0891 sec\n",
            "\n",
            "STARTING EPOCH: 3\n",
            "\t Batch 98/494 ===> Train Loss 1.0768\n",
            "\t Batch 196/494 ===> Train Loss 1.0907\n",
            "\t Batch 294/494 ===> Train Loss 0.9701\n",
            "\t Batch 392/494 ===> Train Loss 0.9090\n",
            "\t Batch 490/494 ===> Train Loss 1.0372\n",
            "Epoch 3 completed with Training Loss 1.0046 in 112.3476 sec\n",
            "\n",
            "STARTING EPOCH: 4\n",
            "\t Batch 98/494 ===> Train Loss 0.8572\n",
            "\t Batch 196/494 ===> Train Loss 1.0068\n",
            "\t Batch 294/494 ===> Train Loss 0.9708\n",
            "\t Batch 392/494 ===> Train Loss 1.0009\n",
            "\t Batch 490/494 ===> Train Loss 0.8298\n",
            "Epoch 4 completed with Training Loss 0.9697 in 112.9924 sec\n",
            "\n",
            "STARTING EPOCH: 5\n",
            "\t Batch 98/494 ===> Train Loss 1.0499\n",
            "\t Batch 196/494 ===> Train Loss 0.9447\n",
            "\t Batch 294/494 ===> Train Loss 0.8569\n",
            "\t Batch 392/494 ===> Train Loss 0.9204\n",
            "\t Batch 490/494 ===> Train Loss 0.9068\n",
            "Epoch 5 completed with Training Loss 0.9435 in 113.4748 sec\n",
            "\n",
            "STARTING EPOCH: 6\n",
            "\t Batch 98/494 ===> Train Loss 0.8907\n",
            "\t Batch 196/494 ===> Train Loss 0.8506\n",
            "\t Batch 294/494 ===> Train Loss 0.8955\n",
            "\t Batch 392/494 ===> Train Loss 0.9862\n",
            "\t Batch 490/494 ===> Train Loss 0.9668\n",
            "Epoch 6 completed with Training Loss 0.9198 in 113.1033 sec\n",
            "\n",
            "STARTING EPOCH: 7\n",
            "\t Batch 98/494 ===> Train Loss 0.9824\n",
            "\t Batch 196/494 ===> Train Loss 0.9019\n",
            "\t Batch 294/494 ===> Train Loss 0.9176\n",
            "\t Batch 392/494 ===> Train Loss 0.8537\n",
            "\t Batch 490/494 ===> Train Loss 0.8827\n",
            "Epoch 7 completed with Training Loss 0.8973 in 113.5027 sec\n",
            "\n",
            "STARTING EPOCH: 8\n",
            "\t Batch 98/494 ===> Train Loss 0.8489\n",
            "\t Batch 196/494 ===> Train Loss 0.8512\n",
            "\t Batch 294/494 ===> Train Loss 0.9110\n",
            "\t Batch 392/494 ===> Train Loss 0.8690\n",
            "\t Batch 490/494 ===> Train Loss 0.8919\n",
            "Epoch 8 completed with Training Loss 0.8745 in 114.7333 sec\n",
            "\n",
            "STARTING EPOCH: 9\n",
            "\t Batch 98/494 ===> Train Loss 0.9030\n",
            "\t Batch 196/494 ===> Train Loss 0.9308\n",
            "\t Batch 294/494 ===> Train Loss 0.7790\n",
            "\t Batch 392/494 ===> Train Loss 0.8346\n",
            "\t Batch 490/494 ===> Train Loss 0.8633\n",
            "Epoch 9 completed with Training Loss 0.8512 in 113.2988 sec\n",
            "\n",
            "STARTING EPOCH: 10\n",
            "\t Batch 98/494 ===> Train Loss 0.7464\n",
            "\t Batch 196/494 ===> Train Loss 0.9373\n",
            "\t Batch 294/494 ===> Train Loss 0.7889\n",
            "\t Batch 392/494 ===> Train Loss 0.8912\n",
            "\t Batch 490/494 ===> Train Loss 0.8021\n",
            "Epoch 10 completed with Training Loss 0.8265 in 112.6345 sec\n",
            "\n",
            "STARTING EPOCH: 11\n",
            "\t Batch 98/494 ===> Train Loss 0.8624\n",
            "\t Batch 196/494 ===> Train Loss 0.7481\n",
            "\t Batch 294/494 ===> Train Loss 0.8458\n",
            "\t Batch 392/494 ===> Train Loss 0.7584\n",
            "\t Batch 490/494 ===> Train Loss 0.8002\n",
            "Epoch 11 completed with Training Loss 0.8003 in 113.5604 sec\n",
            "\n",
            "STARTING EPOCH: 12\n",
            "\t Batch 98/494 ===> Train Loss 0.7854\n",
            "\t Batch 196/494 ===> Train Loss 0.8375\n",
            "\t Batch 294/494 ===> Train Loss 0.8258\n",
            "\t Batch 392/494 ===> Train Loss 0.7205\n",
            "\t Batch 490/494 ===> Train Loss 0.8111\n",
            "Epoch 12 completed with Training Loss 0.7728 in 112.5656 sec\n",
            "\n",
            "STARTING EPOCH: 13\n",
            "\t Batch 98/494 ===> Train Loss 0.7048\n",
            "\t Batch 196/494 ===> Train Loss 0.8418\n",
            "\t Batch 294/494 ===> Train Loss 0.6984\n",
            "\t Batch 392/494 ===> Train Loss 0.7248\n",
            "\t Batch 490/494 ===> Train Loss 0.7809\n",
            "Epoch 13 completed with Training Loss 0.7434 in 112.8197 sec\n",
            "\n",
            "STARTING EPOCH: 14\n",
            "\t Batch 98/494 ===> Train Loss 0.6410\n",
            "\t Batch 196/494 ===> Train Loss 0.7075\n",
            "\t Batch 294/494 ===> Train Loss 0.6766\n",
            "\t Batch 392/494 ===> Train Loss 0.6976\n",
            "\t Batch 490/494 ===> Train Loss 0.7179\n",
            "Epoch 14 completed with Training Loss 0.7126 in 113.2283 sec\n",
            "\n",
            "STARTING EPOCH: 15\n",
            "\t Batch 98/494 ===> Train Loss 0.6904\n",
            "\t Batch 196/494 ===> Train Loss 0.6333\n",
            "\t Batch 294/494 ===> Train Loss 0.6761\n",
            "\t Batch 392/494 ===> Train Loss 0.7036\n",
            "\t Batch 490/494 ===> Train Loss 0.8276\n",
            "Epoch 15 completed with Training Loss 0.6802 in 113.0134 sec\n",
            "\n",
            "STARTING EPOCH: 16\n",
            "\t Batch 98/494 ===> Train Loss 0.6897\n",
            "\t Batch 196/494 ===> Train Loss 0.5634\n",
            "\t Batch 294/494 ===> Train Loss 0.6756\n",
            "\t Batch 392/494 ===> Train Loss 0.6750\n",
            "\t Batch 490/494 ===> Train Loss 0.6568\n",
            "Epoch 16 completed with Training Loss 0.6467 in 113.0314 sec\n",
            "\n",
            "STARTING EPOCH: 17\n",
            "\t Batch 98/494 ===> Train Loss 0.6477\n",
            "\t Batch 196/494 ===> Train Loss 0.5706\n",
            "\t Batch 294/494 ===> Train Loss 0.5354\n",
            "\t Batch 392/494 ===> Train Loss 0.5845\n",
            "\t Batch 490/494 ===> Train Loss 0.6034\n",
            "Epoch 17 completed with Training Loss 0.6129 in 114.2611 sec\n",
            "\n",
            "STARTING EPOCH: 18\n",
            "\t Batch 98/494 ===> Train Loss 0.5866\n",
            "\t Batch 196/494 ===> Train Loss 0.5824\n",
            "\t Batch 294/494 ===> Train Loss 0.5783\n",
            "\t Batch 392/494 ===> Train Loss 0.5364\n",
            "\t Batch 490/494 ===> Train Loss 0.6045\n",
            "Epoch 18 completed with Training Loss 0.5793 in 113.8737 sec\n",
            "\n",
            "STARTING EPOCH: 19\n",
            "\t Batch 98/494 ===> Train Loss 0.4902\n",
            "\t Batch 196/494 ===> Train Loss 0.5148\n",
            "\t Batch 294/494 ===> Train Loss 0.5466\n",
            "\t Batch 392/494 ===> Train Loss 0.5555\n",
            "\t Batch 490/494 ===> Train Loss 0.5473\n",
            "Epoch 19 completed with Training Loss 0.5461 in 114.1936 sec\n",
            "\n",
            "STARTING EPOCH: 20\n",
            "\t Batch 98/494 ===> Train Loss 0.5195\n",
            "\t Batch 196/494 ===> Train Loss 0.4995\n",
            "\t Batch 294/494 ===> Train Loss 0.4733\n",
            "\t Batch 392/494 ===> Train Loss 0.5290\n",
            "\t Batch 490/494 ===> Train Loss 0.4935\n",
            "Epoch 20 completed with Training Loss 0.5139 in 113.5105 sec\n",
            "\n",
            "STARTING EPOCH: 21\n",
            "\t Batch 98/494 ===> Train Loss 0.4693\n",
            "\t Batch 196/494 ===> Train Loss 0.5236\n",
            "\t Batch 294/494 ===> Train Loss 0.5761\n",
            "\t Batch 392/494 ===> Train Loss 0.4991\n",
            "\t Batch 490/494 ===> Train Loss 0.4700\n",
            "Epoch 21 completed with Training Loss 0.4839 in 114.8702 sec\n",
            "\n",
            "STARTING EPOCH: 22\n",
            "\t Batch 98/494 ===> Train Loss 0.4116\n",
            "\t Batch 196/494 ===> Train Loss 0.4589\n",
            "\t Batch 294/494 ===> Train Loss 0.4329\n",
            "\t Batch 392/494 ===> Train Loss 0.4490\n",
            "\t Batch 490/494 ===> Train Loss 0.4555\n",
            "Epoch 22 completed with Training Loss 0.4551 in 113.7862 sec\n",
            "\n",
            "STARTING EPOCH: 23\n",
            "\t Batch 98/494 ===> Train Loss 0.4531\n",
            "\t Batch 196/494 ===> Train Loss 0.4398\n",
            "\t Batch 294/494 ===> Train Loss 0.4301\n",
            "\t Batch 392/494 ===> Train Loss 0.4635\n",
            "\t Batch 490/494 ===> Train Loss 0.4171\n",
            "Epoch 23 completed with Training Loss 0.4281 in 114.5821 sec\n",
            "\n",
            "STARTING EPOCH: 24\n",
            "\t Batch 98/494 ===> Train Loss 0.3937\n",
            "\t Batch 196/494 ===> Train Loss 0.3703\n",
            "\t Batch 294/494 ===> Train Loss 0.3774\n",
            "\t Batch 392/494 ===> Train Loss 0.4173\n",
            "\t Batch 490/494 ===> Train Loss 0.4769\n",
            "Epoch 24 completed with Training Loss 0.4035 in 113.1326 sec\n",
            "\n",
            "STARTING EPOCH: 25\n",
            "\t Batch 98/494 ===> Train Loss 0.3695\n",
            "\t Batch 196/494 ===> Train Loss 0.3398\n",
            "\t Batch 294/494 ===> Train Loss 0.4022\n",
            "\t Batch 392/494 ===> Train Loss 0.4023\n",
            "\t Batch 490/494 ===> Train Loss 0.3823\n",
            "Epoch 25 completed with Training Loss 0.3806 in 112.2842 sec\n",
            "\n",
            "STARTING EPOCH: 26\n",
            "\t Batch 98/494 ===> Train Loss 0.3472\n",
            "\t Batch 196/494 ===> Train Loss 0.3242\n",
            "\t Batch 294/494 ===> Train Loss 0.3431\n",
            "\t Batch 392/494 ===> Train Loss 0.3273\n",
            "\t Batch 490/494 ===> Train Loss 0.3717\n",
            "Epoch 26 completed with Training Loss 0.3600 in 111.8865 sec\n",
            "\n",
            "STARTING EPOCH: 27\n",
            "\t Batch 98/494 ===> Train Loss 0.3853\n",
            "\t Batch 196/494 ===> Train Loss 0.3174\n",
            "\t Batch 294/494 ===> Train Loss 0.3765\n",
            "\t Batch 392/494 ===> Train Loss 0.3522\n",
            "\t Batch 490/494 ===> Train Loss 0.3651\n",
            "Epoch 27 completed with Training Loss 0.3405 in 112.4544 sec\n",
            "\n",
            "STARTING EPOCH: 28\n",
            "\t Batch 98/494 ===> Train Loss 0.2886\n",
            "\t Batch 196/494 ===> Train Loss 0.3212\n",
            "\t Batch 294/494 ===> Train Loss 0.3465\n",
            "\t Batch 392/494 ===> Train Loss 0.3789\n",
            "\t Batch 490/494 ===> Train Loss 0.3361\n",
            "Epoch 28 completed with Training Loss 0.3232 in 112.0946 sec\n",
            "\n",
            "STARTING EPOCH: 29\n",
            "\t Batch 98/494 ===> Train Loss 0.2709\n",
            "\t Batch 196/494 ===> Train Loss 0.3021\n",
            "\t Batch 294/494 ===> Train Loss 0.3058\n",
            "\t Batch 392/494 ===> Train Loss 0.2933\n",
            "\t Batch 490/494 ===> Train Loss 0.3711\n",
            "Epoch 29 completed with Training Loss 0.3071 in 111.7169 sec\n",
            "\n",
            "STARTING EPOCH: 30\n",
            "\t Batch 98/494 ===> Train Loss 0.2760\n",
            "\t Batch 196/494 ===> Train Loss 0.2664\n",
            "\t Batch 294/494 ===> Train Loss 0.2608\n",
            "\t Batch 392/494 ===> Train Loss 0.2939\n",
            "\t Batch 490/494 ===> Train Loss 0.3051\n",
            "Epoch 30 completed with Training Loss 0.2920 in 111.8045 sec\n",
            "\n",
            "STARTING EPOCH: 31\n",
            "\t Batch 98/494 ===> Train Loss 0.2869\n",
            "\t Batch 196/494 ===> Train Loss 0.2886\n",
            "\t Batch 294/494 ===> Train Loss 0.2746\n",
            "\t Batch 392/494 ===> Train Loss 0.2421\n",
            "\t Batch 490/494 ===> Train Loss 0.3055\n",
            "Epoch 31 completed with Training Loss 0.2786 in 111.8992 sec\n",
            "\n",
            "STARTING EPOCH: 32\n",
            "\t Batch 98/494 ===> Train Loss 0.2931\n",
            "\t Batch 196/494 ===> Train Loss 0.2753\n",
            "\t Batch 294/494 ===> Train Loss 0.2840\n",
            "\t Batch 392/494 ===> Train Loss 0.2798\n",
            "\t Batch 490/494 ===> Train Loss 0.2321\n",
            "Epoch 32 completed with Training Loss 0.2670 in 111.4286 sec\n",
            "\n",
            "STARTING EPOCH: 33\n",
            "\t Batch 98/494 ===> Train Loss 0.2754\n",
            "\t Batch 196/494 ===> Train Loss 0.2702\n",
            "\t Batch 294/494 ===> Train Loss 0.3005\n",
            "\t Batch 392/494 ===> Train Loss 0.2348\n",
            "\t Batch 490/494 ===> Train Loss 0.2723\n",
            "Epoch 33 completed with Training Loss 0.2554 in 112.1171 sec\n",
            "\n",
            "STARTING EPOCH: 34\n",
            "\t Batch 98/494 ===> Train Loss 0.2335\n",
            "\t Batch 196/494 ===> Train Loss 0.2532\n",
            "\t Batch 294/494 ===> Train Loss 0.2358\n",
            "\t Batch 392/494 ===> Train Loss 0.2790\n",
            "\t Batch 490/494 ===> Train Loss 0.2302\n",
            "Epoch 34 completed with Training Loss 0.2446 in 111.6123 sec\n",
            "\n",
            "STARTING EPOCH: 35\n",
            "\t Batch 98/494 ===> Train Loss 0.2371\n",
            "\t Batch 196/494 ===> Train Loss 0.2556\n",
            "\t Batch 294/494 ===> Train Loss 0.3001\n",
            "\t Batch 392/494 ===> Train Loss 0.2298\n",
            "\t Batch 490/494 ===> Train Loss 0.2281\n",
            "Epoch 35 completed with Training Loss 0.2355 in 112.5189 sec\n",
            "\n",
            "STARTING EPOCH: 36\n",
            "\t Batch 98/494 ===> Train Loss 0.2215\n",
            "\t Batch 196/494 ===> Train Loss 0.2397\n",
            "\t Batch 294/494 ===> Train Loss 0.2837\n",
            "\t Batch 392/494 ===> Train Loss 0.2253\n",
            "\t Batch 490/494 ===> Train Loss 0.2650\n",
            "Epoch 36 completed with Training Loss 0.2268 in 111.5088 sec\n",
            "\n",
            "STARTING EPOCH: 37\n",
            "\t Batch 98/494 ===> Train Loss 0.2036\n",
            "\t Batch 196/494 ===> Train Loss 0.2456\n",
            "\t Batch 294/494 ===> Train Loss 0.2001\n",
            "\t Batch 392/494 ===> Train Loss 0.1858\n",
            "\t Batch 490/494 ===> Train Loss 0.2531\n",
            "Epoch 37 completed with Training Loss 0.2195 in 111.5930 sec\n",
            "\n",
            "STARTING EPOCH: 38\n",
            "\t Batch 98/494 ===> Train Loss 0.2098\n",
            "\t Batch 196/494 ===> Train Loss 0.2476\n",
            "\t Batch 294/494 ===> Train Loss 0.1793\n",
            "\t Batch 392/494 ===> Train Loss 0.2252\n",
            "\t Batch 490/494 ===> Train Loss 0.1992\n",
            "Epoch 38 completed with Training Loss 0.2121 in 111.9778 sec\n",
            "\n",
            "STARTING EPOCH: 39\n",
            "\t Batch 98/494 ===> Train Loss 0.1705\n",
            "\t Batch 196/494 ===> Train Loss 0.2034\n",
            "\t Batch 294/494 ===> Train Loss 0.2146\n",
            "\t Batch 392/494 ===> Train Loss 0.2109\n",
            "\t Batch 490/494 ===> Train Loss 0.2257\n",
            "Epoch 39 completed with Training Loss 0.2047 in 112.6572 sec\n",
            "\n",
            "STARTING EPOCH: 40\n",
            "\t Batch 98/494 ===> Train Loss 0.1614\n",
            "\t Batch 196/494 ===> Train Loss 0.1952\n",
            "\t Batch 294/494 ===> Train Loss 0.1830\n",
            "\t Batch 392/494 ===> Train Loss 0.2136\n",
            "\t Batch 490/494 ===> Train Loss 0.2527\n",
            "Epoch 40 completed with Training Loss 0.1978 in 112.2270 sec\n",
            "\n",
            "STARTING EPOCH: 41\n",
            "\t Batch 98/494 ===> Train Loss 0.1608\n",
            "\t Batch 196/494 ===> Train Loss 0.2033\n",
            "\t Batch 294/494 ===> Train Loss 0.2040\n",
            "\t Batch 392/494 ===> Train Loss 0.1664\n",
            "\t Batch 490/494 ===> Train Loss 0.2290\n",
            "Epoch 41 completed with Training Loss 0.1918 in 114.0105 sec\n",
            "\n",
            "STARTING EPOCH: 42\n",
            "\t Batch 98/494 ===> Train Loss 0.1574\n",
            "\t Batch 196/494 ===> Train Loss 0.1695\n",
            "\t Batch 294/494 ===> Train Loss 0.1808\n",
            "\t Batch 392/494 ===> Train Loss 0.1986\n",
            "\t Batch 490/494 ===> Train Loss 0.2056\n",
            "Epoch 42 completed with Training Loss 0.1861 in 112.9340 sec\n",
            "\n",
            "STARTING EPOCH: 43\n",
            "\t Batch 98/494 ===> Train Loss 0.1569\n",
            "\t Batch 196/494 ===> Train Loss 0.1443\n",
            "\t Batch 294/494 ===> Train Loss 0.1903\n",
            "\t Batch 392/494 ===> Train Loss 0.1929\n",
            "\t Batch 490/494 ===> Train Loss 0.2413\n",
            "Epoch 43 completed with Training Loss 0.1805 in 112.3262 sec\n",
            "\n",
            "STARTING EPOCH: 44\n",
            "\t Batch 98/494 ===> Train Loss 0.1592\n",
            "\t Batch 196/494 ===> Train Loss 0.1672\n",
            "\t Batch 294/494 ===> Train Loss 0.1926\n",
            "\t Batch 392/494 ===> Train Loss 0.1938\n",
            "\t Batch 490/494 ===> Train Loss 0.1957\n",
            "Epoch 44 completed with Training Loss 0.1767 in 112.9457 sec\n",
            "\n",
            "STARTING EPOCH: 45\n",
            "\t Batch 98/494 ===> Train Loss 0.1624\n",
            "\t Batch 196/494 ===> Train Loss 0.1280\n",
            "\t Batch 294/494 ===> Train Loss 0.1864\n",
            "\t Batch 392/494 ===> Train Loss 0.1590\n",
            "\t Batch 490/494 ===> Train Loss 0.1886\n",
            "Epoch 45 completed with Training Loss 0.1725 in 113.2007 sec\n",
            "\n",
            "STARTING EPOCH: 46\n",
            "\t Batch 98/494 ===> Train Loss 0.1724\n",
            "\t Batch 196/494 ===> Train Loss 0.1820\n",
            "\t Batch 294/494 ===> Train Loss 0.1316\n",
            "\t Batch 392/494 ===> Train Loss 0.1671\n",
            "\t Batch 490/494 ===> Train Loss 0.2008\n",
            "Epoch 46 completed with Training Loss 0.1685 in 113.6814 sec\n",
            "\n",
            "STARTING EPOCH: 47\n",
            "\t Batch 98/494 ===> Train Loss 0.1860\n",
            "\t Batch 196/494 ===> Train Loss 0.1574\n",
            "\t Batch 294/494 ===> Train Loss 0.1894\n",
            "\t Batch 392/494 ===> Train Loss 0.1671\n",
            "\t Batch 490/494 ===> Train Loss 0.1637\n",
            "Epoch 47 completed with Training Loss 0.1649 in 113.7944 sec\n",
            "\n",
            "STARTING EPOCH: 48\n",
            "\t Batch 98/494 ===> Train Loss 0.1253\n",
            "\t Batch 196/494 ===> Train Loss 0.1549\n",
            "\t Batch 294/494 ===> Train Loss 0.1621\n",
            "\t Batch 392/494 ===> Train Loss 0.1380\n",
            "\t Batch 490/494 ===> Train Loss 0.1864\n",
            "Epoch 48 completed with Training Loss 0.1602 in 114.5381 sec\n",
            "\n",
            "STARTING EPOCH: 49\n",
            "\t Batch 98/494 ===> Train Loss 0.1772\n",
            "\t Batch 196/494 ===> Train Loss 0.1812\n",
            "\t Batch 294/494 ===> Train Loss 0.1492\n",
            "\t Batch 392/494 ===> Train Loss 0.1420\n",
            "\t Batch 490/494 ===> Train Loss 0.1718\n",
            "Epoch 49 completed with Training Loss 0.1568 in 114.2188 sec\n",
            "\n",
            "STARTING EPOCH: 50\n",
            "\t Batch 98/494 ===> Train Loss 0.1580\n",
            "\t Batch 196/494 ===> Train Loss 0.1635\n",
            "\t Batch 294/494 ===> Train Loss 0.1636\n",
            "\t Batch 392/494 ===> Train Loss 0.1860\n",
            "\t Batch 490/494 ===> Train Loss 0.1365\n",
            "Epoch 50 completed with Training Loss 0.1541 in 114.0804 sec\n",
            "\n",
            "STARTING EPOCH: 51\n",
            "\t Batch 98/494 ===> Train Loss 0.1312\n",
            "\t Batch 196/494 ===> Train Loss 0.1623\n",
            "\t Batch 294/494 ===> Train Loss 0.1556\n",
            "\t Batch 392/494 ===> Train Loss 0.1658\n",
            "\t Batch 490/494 ===> Train Loss 0.1603\n",
            "Epoch 51 completed with Training Loss 0.1503 in 114.2950 sec\n",
            "\n",
            "STARTING EPOCH: 52\n",
            "\t Batch 98/494 ===> Train Loss 0.1409\n",
            "\t Batch 196/494 ===> Train Loss 0.1468\n",
            "\t Batch 294/494 ===> Train Loss 0.1511\n",
            "\t Batch 392/494 ===> Train Loss 0.1510\n",
            "\t Batch 490/494 ===> Train Loss 0.1693\n",
            "Epoch 52 completed with Training Loss 0.1474 in 113.7875 sec\n",
            "\n",
            "STARTING EPOCH: 53\n",
            "\t Batch 98/494 ===> Train Loss 0.1201\n",
            "\t Batch 196/494 ===> Train Loss 0.1516\n",
            "\t Batch 294/494 ===> Train Loss 0.1397\n",
            "\t Batch 392/494 ===> Train Loss 0.1519\n",
            "\t Batch 490/494 ===> Train Loss 0.1516\n",
            "Epoch 53 completed with Training Loss 0.1454 in 114.0672 sec\n",
            "\n",
            "STARTING EPOCH: 54\n",
            "\t Batch 98/494 ===> Train Loss 0.1336\n",
            "\t Batch 196/494 ===> Train Loss 0.1382\n",
            "\t Batch 294/494 ===> Train Loss 0.1697\n",
            "\t Batch 392/494 ===> Train Loss 0.1424\n",
            "\t Batch 490/494 ===> Train Loss 0.1809\n",
            "Epoch 54 completed with Training Loss 0.1421 in 114.1527 sec\n",
            "\n",
            "STARTING EPOCH: 55\n",
            "\t Batch 98/494 ===> Train Loss 0.1208\n",
            "\t Batch 196/494 ===> Train Loss 0.1415\n",
            "\t Batch 294/494 ===> Train Loss 0.1529\n",
            "\t Batch 392/494 ===> Train Loss 0.1765\n",
            "\t Batch 490/494 ===> Train Loss 0.1309\n",
            "Epoch 55 completed with Training Loss 0.1407 in 113.2283 sec\n",
            "\n",
            "STARTING EPOCH: 56\n",
            "\t Batch 98/494 ===> Train Loss 0.0986\n",
            "\t Batch 196/494 ===> Train Loss 0.1498\n",
            "\t Batch 294/494 ===> Train Loss 0.1809\n",
            "\t Batch 392/494 ===> Train Loss 0.1707\n",
            "\t Batch 490/494 ===> Train Loss 0.1610\n",
            "Epoch 56 completed with Training Loss 0.1379 in 114.6711 sec\n",
            "\n",
            "STARTING EPOCH: 57\n",
            "\t Batch 98/494 ===> Train Loss 0.1186\n",
            "\t Batch 196/494 ===> Train Loss 0.1154\n",
            "\t Batch 294/494 ===> Train Loss 0.1533\n",
            "\t Batch 392/494 ===> Train Loss 0.1393\n",
            "\t Batch 490/494 ===> Train Loss 0.1479\n",
            "Epoch 57 completed with Training Loss 0.1366 in 114.0686 sec\n",
            "\n",
            "STARTING EPOCH: 58\n",
            "\t Batch 98/494 ===> Train Loss 0.1181\n",
            "\t Batch 196/494 ===> Train Loss 0.1220\n",
            "\t Batch 294/494 ===> Train Loss 0.1447\n",
            "\t Batch 392/494 ===> Train Loss 0.1222\n",
            "\t Batch 490/494 ===> Train Loss 0.1506\n",
            "Epoch 58 completed with Training Loss 0.1335 in 112.8735 sec\n",
            "\n",
            "STARTING EPOCH: 59\n",
            "\t Batch 98/494 ===> Train Loss 0.1195\n",
            "\t Batch 196/494 ===> Train Loss 0.1219\n",
            "\t Batch 294/494 ===> Train Loss 0.1324\n",
            "\t Batch 392/494 ===> Train Loss 0.1386\n",
            "\t Batch 490/494 ===> Train Loss 0.1450\n",
            "Epoch 59 completed with Training Loss 0.1317 in 112.6339 sec\n",
            "\n",
            "STARTING EPOCH: 60\n",
            "\t Batch 98/494 ===> Train Loss 0.1412\n",
            "\t Batch 196/494 ===> Train Loss 0.1207\n",
            "\t Batch 294/494 ===> Train Loss 0.1088\n",
            "\t Batch 392/494 ===> Train Loss 0.1305\n",
            "\t Batch 490/494 ===> Train Loss 0.1347\n",
            "Epoch 60 completed with Training Loss 0.1286 in 113.8829 sec\n",
            "\n",
            "STARTING EPOCH: 61\n",
            "\t Batch 98/494 ===> Train Loss 0.1128\n",
            "\t Batch 196/494 ===> Train Loss 0.1431\n",
            "\t Batch 294/494 ===> Train Loss 0.1310\n",
            "\t Batch 392/494 ===> Train Loss 0.1302\n",
            "\t Batch 490/494 ===> Train Loss 0.1320\n",
            "Epoch 61 completed with Training Loss 0.1264 in 113.2253 sec\n",
            "\n",
            "STARTING EPOCH: 62\n",
            "\t Batch 98/494 ===> Train Loss 0.1100\n",
            "\t Batch 196/494 ===> Train Loss 0.1492\n",
            "\t Batch 294/494 ===> Train Loss 0.1383\n",
            "\t Batch 392/494 ===> Train Loss 0.1497\n",
            "\t Batch 490/494 ===> Train Loss 0.1643\n",
            "Epoch 62 completed with Training Loss 0.1257 in 114.3602 sec\n",
            "\n",
            "STARTING EPOCH: 63\n",
            "\t Batch 98/494 ===> Train Loss 0.1237\n",
            "\t Batch 196/494 ===> Train Loss 0.1416\n",
            "\t Batch 294/494 ===> Train Loss 0.1181\n",
            "\t Batch 392/494 ===> Train Loss 0.1495\n",
            "\t Batch 490/494 ===> Train Loss 0.1500\n",
            "Epoch 63 completed with Training Loss 0.1253 in 114.7048 sec\n",
            "\n",
            "STARTING EPOCH: 64\n",
            "\t Batch 98/494 ===> Train Loss 0.1126\n",
            "\t Batch 196/494 ===> Train Loss 0.1132\n",
            "\t Batch 294/494 ===> Train Loss 0.1267\n",
            "\t Batch 392/494 ===> Train Loss 0.1319\n",
            "\t Batch 490/494 ===> Train Loss 0.1263\n",
            "Epoch 64 completed with Training Loss 0.1230 in 114.3633 sec\n",
            "\n",
            "STARTING EPOCH: 65\n",
            "\t Batch 98/494 ===> Train Loss 0.1084\n",
            "\t Batch 196/494 ===> Train Loss 0.1328\n",
            "\t Batch 294/494 ===> Train Loss 0.1388\n",
            "\t Batch 392/494 ===> Train Loss 0.1270\n",
            "\t Batch 490/494 ===> Train Loss 0.1512\n",
            "Epoch 65 completed with Training Loss 0.1214 in 115.4543 sec\n",
            "\n",
            "STARTING EPOCH: 66\n",
            "\t Batch 98/494 ===> Train Loss 0.1333\n",
            "\t Batch 196/494 ===> Train Loss 0.1253\n",
            "\t Batch 294/494 ===> Train Loss 0.1201\n",
            "\t Batch 392/494 ===> Train Loss 0.1296\n",
            "\t Batch 490/494 ===> Train Loss 0.1434\n",
            "Epoch 66 completed with Training Loss 0.1202 in 115.0658 sec\n",
            "\n",
            "STARTING EPOCH: 67\n",
            "\t Batch 98/494 ===> Train Loss 0.1190\n",
            "\t Batch 196/494 ===> Train Loss 0.1182\n",
            "\t Batch 294/494 ===> Train Loss 0.1061\n",
            "\t Batch 392/494 ===> Train Loss 0.1213\n",
            "\t Batch 490/494 ===> Train Loss 0.1444\n",
            "Epoch 67 completed with Training Loss 0.1201 in 114.0011 sec\n",
            "\n",
            "STARTING EPOCH: 68\n",
            "\t Batch 98/494 ===> Train Loss 0.1068\n",
            "\t Batch 196/494 ===> Train Loss 0.1016\n",
            "\t Batch 294/494 ===> Train Loss 0.0950\n",
            "\t Batch 392/494 ===> Train Loss 0.1368\n",
            "\t Batch 490/494 ===> Train Loss 0.1434\n",
            "Epoch 68 completed with Training Loss 0.1178 in 115.3363 sec\n",
            "\n",
            "STARTING EPOCH: 69\n",
            "\t Batch 98/494 ===> Train Loss 0.1189\n",
            "\t Batch 196/494 ===> Train Loss 0.1009\n",
            "\t Batch 294/494 ===> Train Loss 0.0951\n",
            "\t Batch 392/494 ===> Train Loss 0.1095\n",
            "\t Batch 490/494 ===> Train Loss 0.1154\n",
            "Epoch 69 completed with Training Loss 0.1148 in 113.1044 sec\n",
            "\n",
            "STARTING EPOCH: 70\n",
            "\t Batch 98/494 ===> Train Loss 0.1170\n",
            "\t Batch 196/494 ===> Train Loss 0.1023\n",
            "\t Batch 294/494 ===> Train Loss 0.1169\n",
            "\t Batch 392/494 ===> Train Loss 0.1223\n",
            "\t Batch 490/494 ===> Train Loss 0.1192\n",
            "Epoch 70 completed with Training Loss 0.1139 in 113.2915 sec\n",
            "\n",
            "STARTING EPOCH: 71\n",
            "\t Batch 98/494 ===> Train Loss 0.0982\n",
            "\t Batch 196/494 ===> Train Loss 0.1038\n",
            "\t Batch 294/494 ===> Train Loss 0.1297\n",
            "\t Batch 392/494 ===> Train Loss 0.1208\n",
            "\t Batch 490/494 ===> Train Loss 0.1251\n",
            "Epoch 71 completed with Training Loss 0.1149 in 113.9971 sec\n",
            "\n",
            "STARTING EPOCH: 72\n",
            "\t Batch 98/494 ===> Train Loss 0.1183\n",
            "\t Batch 196/494 ===> Train Loss 0.1070\n",
            "\t Batch 294/494 ===> Train Loss 0.1124\n",
            "\t Batch 392/494 ===> Train Loss 0.1148\n",
            "\t Batch 490/494 ===> Train Loss 0.1161\n",
            "Epoch 72 completed with Training Loss 0.1130 in 113.3720 sec\n",
            "\n",
            "STARTING EPOCH: 73\n",
            "\t Batch 98/494 ===> Train Loss 0.0986\n",
            "\t Batch 196/494 ===> Train Loss 0.0991\n",
            "\t Batch 294/494 ===> Train Loss 0.1126\n",
            "\t Batch 392/494 ===> Train Loss 0.1128\n",
            "\t Batch 490/494 ===> Train Loss 0.1289\n",
            "Epoch 73 completed with Training Loss 0.1141 in 115.3658 sec\n",
            "\n",
            "STARTING EPOCH: 74\n",
            "\t Batch 98/494 ===> Train Loss 0.1030\n",
            "\t Batch 196/494 ===> Train Loss 0.0920\n",
            "\t Batch 294/494 ===> Train Loss 0.1180\n",
            "\t Batch 392/494 ===> Train Loss 0.1159\n",
            "\t Batch 490/494 ===> Train Loss 0.1184\n",
            "Epoch 74 completed with Training Loss 0.1116 in 114.3848 sec\n",
            "\n",
            "STARTING EPOCH: 75\n",
            "\t Batch 98/494 ===> Train Loss 0.0909\n",
            "\t Batch 196/494 ===> Train Loss 0.1255\n",
            "\t Batch 294/494 ===> Train Loss 0.1212\n",
            "\t Batch 392/494 ===> Train Loss 0.1219\n",
            "\t Batch 490/494 ===> Train Loss 0.1300\n",
            "Epoch 75 completed with Training Loss 0.1088 in 114.8411 sec\n",
            "\n",
            "STARTING EPOCH: 76\n",
            "\t Batch 98/494 ===> Train Loss 0.0958\n",
            "\t Batch 196/494 ===> Train Loss 0.0925\n",
            "\t Batch 294/494 ===> Train Loss 0.1119\n",
            "\t Batch 392/494 ===> Train Loss 0.1334\n",
            "\t Batch 490/494 ===> Train Loss 0.1283\n",
            "Epoch 76 completed with Training Loss 0.1074 in 113.8753 sec\n",
            "\n",
            "STARTING EPOCH: 77\n",
            "\t Batch 98/494 ===> Train Loss 0.0752\n",
            "\t Batch 196/494 ===> Train Loss 0.0933\n",
            "\t Batch 294/494 ===> Train Loss 0.1170\n",
            "\t Batch 392/494 ===> Train Loss 0.0970\n",
            "\t Batch 490/494 ===> Train Loss 0.1398\n",
            "Epoch 77 completed with Training Loss 0.1061 in 114.7529 sec\n",
            "\n",
            "STARTING EPOCH: 78\n",
            "\t Batch 98/494 ===> Train Loss 0.1125\n",
            "\t Batch 196/494 ===> Train Loss 0.0864\n",
            "\t Batch 294/494 ===> Train Loss 0.1210\n",
            "\t Batch 392/494 ===> Train Loss 0.1136\n",
            "\t Batch 490/494 ===> Train Loss 0.1169\n",
            "Epoch 78 completed with Training Loss 0.1073 in 114.3410 sec\n",
            "\n",
            "STARTING EPOCH: 79\n",
            "\t Batch 98/494 ===> Train Loss 0.0953\n",
            "\t Batch 196/494 ===> Train Loss 0.0973\n",
            "\t Batch 294/494 ===> Train Loss 0.1308\n",
            "\t Batch 392/494 ===> Train Loss 0.0922\n",
            "\t Batch 490/494 ===> Train Loss 0.1079\n",
            "Epoch 79 completed with Training Loss 0.1077 in 114.8012 sec\n",
            "\n",
            "STARTING EPOCH: 80\n",
            "\t Batch 98/494 ===> Train Loss 0.0985\n",
            "\t Batch 196/494 ===> Train Loss 0.0873\n"
          ],
          "name": "stdout"
        }
      ]
    },
    {
      "cell_type": "code",
      "metadata": {
        "id": "O6jFhhQp6SAe",
        "colab_type": "code",
        "colab": {
          "base_uri": "https://localhost:8080/",
          "height": 1000
        },
        "outputId": "ed6abf42-11e3-4345-b173-69510c31e01b"
      },
      "source": [
        "import matplotlib.pyplot as plt\n",
        "fig, ax = plt.subplots(figsize=(15,10))\n",
        "ax.plot(losses)\n",
        "ax.set_xlabel(\"Epochs\")\n",
        "ax.set_ylabel(\"Batch_losses\")\n",
        "ax.set_title(\"LOSS GRAPH\")\n",
        "\n",
        "plt.show()"
      ],
      "execution_count": null,
      "outputs": [
        {
          "output_type": "display_data",
          "data": {
            "image/png": "[encoded data removed]",
            "text/plain": [
              "<Figure size 1080x720 with 1 Axes>"
            ]
          },
          "metadata": {
            "tags": [],
            "needs_background": "light"
          }
        },
        {
          "output_type": "display_data",
          "data": {
            "image/png": "[encoded data removed]",
            "text/plain": [
              "<Figure size 1080x720 with 1 Axes>"
            ]
          },
          "metadata": {
            "tags": [],
            "needs_background": "light"
          }
        }
      ]
    },
    {
      "cell_type": "code",
      "metadata": {
        "id": "SECcFNimviiL",
        "colab_type": "code",
        "colab": {}
      },
      "source": [
        "# saving your model\n",
        "encoder.save('encoder.h5')\n",
        "decoder.save('decoder.h5')\n",
        "from google.colab import drive\n",
        "drive.mount('/content/gdrive')\n",
        "!cp ResNet50_997_940.h5 /content/gdrive/My\\ Drive/Colab\\ Notebooks"
      ],
      "execution_count": null,
      "outputs": []
    },
    {
      "cell_type": "code",
      "metadata": {
        "id": "SsB3zlwiYbnO",
        "colab_type": "code",
        "colab": {}
      },
      "source": [
        "# evaluate function\n",
        "def reply_to(sentence):\n",
        "\n",
        "    sentence = normalizeString(sentence)\n",
        "\n",
        "    inps = [vocab[word] for word in sentence.split(\" \")]\n",
        "    inps = pad_sequences([inps], maxl , padding='post')\n",
        "    inps = tf.convert_to_tensor(inps)\n",
        "\n",
        "    result = ''\n",
        "\n",
        "    hidden = [tf.zeros((1, units))]\n",
        "    enc_out, enc_hidden = encoder(inps, hidden)\n",
        "\n",
        "    dec_hidden = enc_hidden\n",
        "    dec_input = tf.expand_dims([vocab[\"SOS\"]], 0)\n",
        "\n",
        "    for t in range(10):\n",
        "        preds, dec_hidden, attn_wts = decoder(dec_input, dec_hidden, enc_out)\n",
        "\n",
        "        pred_id = tf.argmax(preds[0]).numpy()\n",
        "\n",
        "        if inv_vocab[pred_id] == \"EOS\":\n",
        "            return result, sentence\n",
        "\n",
        "        result += inv_vocab[pred_id] + \" \"\n",
        "\n",
        "        \n",
        "        dec_input = tf.expand_dims([pred_id],0)\n",
        "\n",
        "    return reply"
      ],
      "execution_count": null,
      "outputs": []
    },
    {
      "cell_type": "code",
      "metadata": {
        "id": "ejrZVVqunNPO",
        "colab_type": "code",
        "colab": {}
      },
      "source": [
        "reply_to(\"How are you?\")\n"
      ],
      "execution_count": null,
      "outputs": []
    },
    {
      "cell_type": "code",
      "metadata": {
        "id": "czUgjPb3nooj",
        "colab_type": "code",
        "colab": {
          "base_uri": "https://localhost:8080/",
          "height": 51
        },
        "outputId": "1a127a45-4430-43c6-df16-9638ffd77147"
      },
      "source": [
        ""
      ],
      "execution_count": null,
      "outputs": [
        {
          "output_type": "stream",
          "text": [
            "INPUT: <SOM> why am i so bad <EOM>\n",
            "REPLY: i am not a good \n"
          ],
          "name": "stdout"
        }
      ]
    },
    {
      "cell_type": "code",
      "metadata": {
        "id": "uyYJbzYPGGeP",
        "colab_type": "code",
        "colab": {
          "base_uri": "https://localhost:8080/",
          "height": 34
        },
        "outputId": "fde2dd87-0895-4c4c-db5c-18f07cf9f197"
      },
      "source": [
        ""
      ],
      "execution_count": null,
      "outputs": [
        {
          "output_type": "execute_result",
          "data": {
            "text/plain": [
              "521"
            ]
          },
          "metadata": {
            "tags": []
          },
          "execution_count": 35
        }
      ]
    },
    {
      "cell_type": "code",
      "metadata": {
        "id": "sz4KKVb4wHHM",
        "colab_type": "code",
        "colab": {}
      },
      "source": [
        ""
      ],
      "execution_count": null,
      "outputs": []
    }
  ]
}